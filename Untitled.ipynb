{
 "cells": [
  {
   "cell_type": "code",
   "execution_count": 18,
   "metadata": {},
   "outputs": [
    {
     "name": "stdout",
     "output_type": "stream",
     "text": [
      "[ 0  1  2  3  4  5  6  7  8  9 10 11 12 13 14 15 16 17 18 19 20 21 22 23\n",
      " 24 25 26 27 28 29]\n"
     ]
    }
   ],
   "source": [
    "import numpy as np\n",
    "a=np.arange(30)\n",
    "print(a)"
   ]
  },
  {
   "cell_type": "code",
   "execution_count": 19,
   "metadata": {},
   "outputs": [],
   "source": [
    "dicter={\"x\":np.arange(40).reshape(2,5,2,2),\"y\":np.arange(15,55).reshape(2,5,2,2)}"
   ]
  },
  {
   "cell_type": "code",
   "execution_count": 20,
   "metadata": {},
   "outputs": [
    {
     "data": {
      "text/plain": [
       "{'x': array([[[[ 0,  1],\n",
       "          [ 2,  3]],\n",
       " \n",
       "         [[ 4,  5],\n",
       "          [ 6,  7]],\n",
       " \n",
       "         [[ 8,  9],\n",
       "          [10, 11]],\n",
       " \n",
       "         [[12, 13],\n",
       "          [14, 15]],\n",
       " \n",
       "         [[16, 17],\n",
       "          [18, 19]]],\n",
       " \n",
       " \n",
       "        [[[20, 21],\n",
       "          [22, 23]],\n",
       " \n",
       "         [[24, 25],\n",
       "          [26, 27]],\n",
       " \n",
       "         [[28, 29],\n",
       "          [30, 31]],\n",
       " \n",
       "         [[32, 33],\n",
       "          [34, 35]],\n",
       " \n",
       "         [[36, 37],\n",
       "          [38, 39]]]]),\n",
       " 'y': array([[[[15, 16],\n",
       "          [17, 18]],\n",
       " \n",
       "         [[19, 20],\n",
       "          [21, 22]],\n",
       " \n",
       "         [[23, 24],\n",
       "          [25, 26]],\n",
       " \n",
       "         [[27, 28],\n",
       "          [29, 30]],\n",
       " \n",
       "         [[31, 32],\n",
       "          [33, 34]]],\n",
       " \n",
       " \n",
       "        [[[35, 36],\n",
       "          [37, 38]],\n",
       " \n",
       "         [[39, 40],\n",
       "          [41, 42]],\n",
       " \n",
       "         [[43, 44],\n",
       "          [45, 46]],\n",
       " \n",
       "         [[47, 48],\n",
       "          [49, 50]],\n",
       " \n",
       "         [[51, 52],\n",
       "          [53, 54]]]])}"
      ]
     },
     "execution_count": 20,
     "metadata": {},
     "output_type": "execute_result"
    }
   ],
   "source": [
    "dicter"
   ]
  },
  {
   "cell_type": "code",
   "execution_count": 21,
   "metadata": {},
   "outputs": [
    {
     "data": {
      "text/plain": [
       "array([[20, 21],\n",
       "       [22, 23]])"
      ]
     },
     "execution_count": 21,
     "metadata": {},
     "output_type": "execute_result"
    }
   ],
   "source": [
    "dicter[\"x\"][1,0]"
   ]
  },
  {
   "cell_type": "code",
   "execution_count": 22,
   "metadata": {},
   "outputs": [],
   "source": [
    "astro=np.array([[[3,4,5],[6,7,8],[9,10,1]],[[20,30,5],[3,8,8],[87,1,1]],[[3,4,5],[6,7,8],[9,10,1]]])"
   ]
  },
  {
   "cell_type": "code",
   "execution_count": 23,
   "metadata": {},
   "outputs": [
    {
     "data": {
      "text/plain": [
       "array([[[ 3,  4,  5],\n",
       "        [ 6,  7,  8],\n",
       "        [ 9, 10,  1]],\n",
       "\n",
       "       [[20, 30,  5],\n",
       "        [ 3,  8,  8],\n",
       "        [87,  1,  1]],\n",
       "\n",
       "       [[ 3,  4,  5],\n",
       "        [ 6,  7,  8],\n",
       "        [ 9, 10,  1]]])"
      ]
     },
     "execution_count": 23,
     "metadata": {},
     "output_type": "execute_result"
    }
   ],
   "source": [
    "astro"
   ]
  },
  {
   "cell_type": "code",
   "execution_count": 24,
   "metadata": {},
   "outputs": [
    {
     "data": {
      "text/plain": [
       "(3, 3, 3)"
      ]
     },
     "execution_count": 24,
     "metadata": {},
     "output_type": "execute_result"
    }
   ],
   "source": [
    "astro.shape"
   ]
  },
  {
   "cell_type": "code",
   "execution_count": 25,
   "metadata": {},
   "outputs": [
    {
     "data": {
      "text/plain": [
       "array([[[ 0,  1,  2],\n",
       "        [ 3,  4,  5],\n",
       "        [ 6,  7,  8]],\n",
       "\n",
       "       [[ 9, 10, 11],\n",
       "        [12, 13, 14],\n",
       "        [15, 16, 17]],\n",
       "\n",
       "       [[18, 19, 20],\n",
       "        [21, 22, 23],\n",
       "        [24, 25, 26]]])"
      ]
     },
     "execution_count": 25,
     "metadata": {},
     "output_type": "execute_result"
    }
   ],
   "source": [
    "astro1=np.arange(27).reshape(3,3,3)\n",
    "astro1"
   ]
  },
  {
   "cell_type": "code",
   "execution_count": 26,
   "metadata": {},
   "outputs": [
    {
     "data": {
      "text/plain": [
       "array([[[   0,    4,   10],\n",
       "        [  18,   28,   40],\n",
       "        [  54,   70,    8]],\n",
       "\n",
       "       [[ 180,  300,   55],\n",
       "        [  36,  104,  112],\n",
       "        [1305,   16,   17]],\n",
       "\n",
       "       [[  54,   76,  100],\n",
       "        [ 126,  154,  184],\n",
       "        [ 216,  250,   26]]])"
      ]
     },
     "execution_count": 26,
     "metadata": {},
     "output_type": "execute_result"
    }
   ],
   "source": [
    "astro*astro1"
   ]
  },
  {
   "cell_type": "code",
   "execution_count": 27,
   "metadata": {},
   "outputs": [
    {
     "data": {
      "text/plain": [
       "array([[[ True,  True,  True],\n",
       "        [ True,  True,  True],\n",
       "        [ True,  True, False]],\n",
       "\n",
       "       [[ True,  True, False],\n",
       "        [False, False, False],\n",
       "        [ True, False, False]],\n",
       "\n",
       "       [[False, False, False],\n",
       "        [False, False, False],\n",
       "        [False, False, False]]])"
      ]
     },
     "execution_count": 27,
     "metadata": {},
     "output_type": "execute_result"
    }
   ],
   "source": [
    "astro>astro1"
   ]
  },
  {
   "cell_type": "code",
   "execution_count": 28,
   "metadata": {},
   "outputs": [
    {
     "data": {
      "text/plain": [
       "array([[[False, False, False],\n",
       "        [False, False, False],\n",
       "        [False, False, False]],\n",
       "\n",
       "       [[False, False, False],\n",
       "        [False, False, False],\n",
       "        [False, False, False]],\n",
       "\n",
       "       [[False, False, False],\n",
       "        [False, False, False],\n",
       "        [False, False, False]]])"
      ]
     },
     "execution_count": 28,
     "metadata": {},
     "output_type": "execute_result"
    }
   ],
   "source": [
    "astro==astro1"
   ]
  },
  {
   "cell_type": "code",
   "execution_count": 29,
   "metadata": {},
   "outputs": [
    {
     "data": {
      "text/plain": [
       "array([-0.98803162, -0.6072706 , -0.22650957,  0.15425145])"
      ]
     },
     "execution_count": 29,
     "metadata": {},
     "output_type": "execute_result"
    }
   ],
   "source": [
    "import math\n",
    "ss=np.linspace(math.sin(30),math.cos(30),4)\n",
    "ss"
   ]
  },
  {
   "cell_type": "code",
   "execution_count": 30,
   "metadata": {},
   "outputs": [
    {
     "data": {
      "text/plain": [
       "array([0.10279414, 0.24701845, 0.59359526, 1.42643324])"
      ]
     },
     "execution_count": 30,
     "metadata": {},
     "output_type": "execute_result"
    }
   ],
   "source": [
    "ss1=np.logspace(math.sin(30),math.cos(30),4)\n",
    "ss1"
   ]
  },
  {
   "cell_type": "code",
   "execution_count": 31,
   "metadata": {},
   "outputs": [
    {
     "data": {
      "text/plain": [
       "array([[[3.        , 3.04347826, 3.08695652, 3.13043478],\n",
       "        [3.17391304, 3.2173913 , 3.26086957, 3.30434783],\n",
       "        [3.34782609, 3.39130435, 3.43478261, 3.47826087]],\n",
       "\n",
       "       [[3.52173913, 3.56521739, 3.60869565, 3.65217391],\n",
       "        [3.69565217, 3.73913043, 3.7826087 , 3.82608696],\n",
       "        [3.86956522, 3.91304348, 3.95652174, 4.        ]]])"
      ]
     },
     "execution_count": 31,
     "metadata": {},
     "output_type": "execute_result"
    }
   ],
   "source": [
    "ss3=np.linspace(3,4,24).reshape(2,3,4)\n",
    "ss3"
   ]
  },
  {
   "cell_type": "code",
   "execution_count": 32,
   "metadata": {},
   "outputs": [
    {
     "data": {
      "text/plain": [
       "array([[[ 1000.        ,  1105.29514113,  1221.677349  ,  1350.31403787],\n",
       "        [ 1492.49554505,  1649.6480741 ,  1823.34800087,  2015.33768594],\n",
       "        [ 2227.542952  ,  2462.09240149,  2721.33876838,  3007.88251804]],\n",
       "\n",
       "       [[ 3324.59793227,  3674.66194074,  4061.58598838,  4489.25125822],\n",
       "        [ 4961.947603  ,  5484.41657612,  6061.8989935 ,  6700.18750351],\n",
       "        [ 7405.68469226,  8185.46730707,  9047.35724235, 10000.        ]]])"
      ]
     },
     "execution_count": 32,
     "metadata": {},
     "output_type": "execute_result"
    }
   ],
   "source": [
    "ss4=np.logspace(3,4,24).reshape(2,3,4)\n",
    "ss4"
   ]
  },
  {
   "cell_type": "code",
   "execution_count": 33,
   "metadata": {},
   "outputs": [
    {
     "data": {
      "text/plain": [
       "array([ 1.,  2.,  3.,  4.,  5.,  6.,  7.,  8.,  9., 10., 11., 12., 13.,\n",
       "       14., 15., 16., 17., 18., 19., 20., 21., 22., 23., 24., 25., 26.,\n",
       "       27., 28., 29., 30.])"
      ]
     },
     "execution_count": 33,
     "metadata": {},
     "output_type": "execute_result"
    }
   ],
   "source": [
    "ss5=np.linspace(1,30,30)\n",
    "ss5"
   ]
  },
  {
   "cell_type": "code",
   "execution_count": null,
   "metadata": {},
   "outputs": [],
   "source": []
  },
  {
   "cell_type": "code",
   "execution_count": 37,
   "metadata": {},
   "outputs": [
    {
     "data": {
      "text/plain": [
       "array([[[ 1,  2,  3],\n",
       "        [ 1,  2,  4],\n",
       "        [45,  7,  0]],\n",
       "\n",
       "       [[ 1,  2,  3],\n",
       "        [ 1,  2,  4],\n",
       "        [45,  7,  0]],\n",
       "\n",
       "       [[ 1,  2,  3],\n",
       "        [ 1,  2,  4],\n",
       "        [45,  7,  0]]])"
      ]
     },
     "execution_count": 37,
     "metadata": {},
     "output_type": "execute_result"
    }
   ],
   "source": [
    "axe=np.array([[[1,2,3],[1,2,4],[45,7,0]],[[1,2,3],[1,2,4],[45,7,0]],[[1,2,3],[1,2,4],[45,7,0]]])\n",
    "axe"
   ]
  },
  {
   "cell_type": "code",
   "execution_count": 54,
   "metadata": {},
   "outputs": [
    {
     "data": {
      "text/plain": [
       "array([[[[0.        , 0.        ],\n",
       "         [0.        , 0.        ]],\n",
       "\n",
       "        [[0.        , 0.        ],\n",
       "         [0.        , 0.        ]]],\n",
       "\n",
       "\n",
       "       [[[0.33333333, 0.33333333],\n",
       "         [0.33333333, 0.33333333]],\n",
       "\n",
       "        [[0.33333333, 0.33333333],\n",
       "         [0.33333333, 0.33333333]]],\n",
       "\n",
       "\n",
       "       [[[0.66666667, 0.66666667],\n",
       "         [0.66666667, 0.66666667]],\n",
       "\n",
       "        [[0.66666667, 0.66666667],\n",
       "         [0.66666667, 0.66666667]]],\n",
       "\n",
       "\n",
       "       [[[1.        , 1.        ],\n",
       "         [1.        , 1.        ]],\n",
       "\n",
       "        [[1.        , 1.        ],\n",
       "         [1.        , 1.        ]]]])"
      ]
     },
     "execution_count": 54,
     "metadata": {},
     "output_type": "execute_result"
    }
   ],
   "source": [
    "axe=np.linspace(np.empty((2,2,2)),np.empty((2,2,2)),4)\n",
    "axe"
   ]
  },
  {
   "cell_type": "code",
   "execution_count": 56,
   "metadata": {},
   "outputs": [
    {
     "data": {
      "text/plain": [
       "array([[[0.33333333, 0.33333333, 0.33333333, 0.33333333],\n",
       "        [0.33333333, 0.33333333, 0.33333333, 0.33333333],\n",
       "        [0.66666667, 0.66666667, 0.66666667, 0.66666667]],\n",
       "\n",
       "       [[0.66666667, 0.66666667, 0.66666667, 0.66666667],\n",
       "        [1.        , 1.        , 1.        , 1.        ],\n",
       "        [1.        , 1.        , 1.        , 1.        ]]])"
      ]
     },
     "execution_count": 56,
     "metadata": {},
     "output_type": "execute_result"
    }
   ],
   "source": [
    "siren=np.empty((2,3,4))\n",
    "siren"
   ]
  },
  {
   "cell_type": "code",
   "execution_count": null,
   "metadata": {},
   "outputs": [],
   "source": []
  }
 ],
 "metadata": {
  "kernelspec": {
   "display_name": "Python 3",
   "language": "python",
   "name": "python3"
  },
  "language_info": {
   "codemirror_mode": {
    "name": "ipython",
    "version": 3
   },
   "file_extension": ".py",
   "mimetype": "text/x-python",
   "name": "python",
   "nbconvert_exporter": "python",
   "pygments_lexer": "ipython3",
   "version": "3.7.7"
  }
 },
 "nbformat": 4,
 "nbformat_minor": 4
}
